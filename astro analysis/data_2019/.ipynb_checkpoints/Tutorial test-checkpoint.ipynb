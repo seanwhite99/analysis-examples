{
 "cells": [
  {
   "cell_type": "code",
   "execution_count": 1,
   "metadata": {},
   "outputs": [],
   "source": [
    "from photutils import CircularAperture, aperture_photometry, CircularAnnulus\n",
    "from astropy import units as u\n",
    "import numpy as np\n",
    "import astropy.io.fits as pf\n",
    "import ccdproc\n",
    "import os\n",
    "import matplotlib.pyplot as plt"
   ]
  },
  {
   "cell_type": "code",
   "execution_count": 2,
   "metadata": {},
   "outputs": [],
   "source": [
    "def filelist(path):\n",
    "    filenamelist = [path + file for file in os.listdir(path) if file.endswith('.fits')]\n",
    "    if filenamelist:\n",
    "        filenamelist.sort()\n",
    "    return filenamelist\n",
    "\n",
    "def master_image(imagelist):\n",
    "    imagedata = []\n",
    "    for image in imagelist:\n",
    "        img = pf.getdata(image, 0)\n",
    "        imagedata.append(img)\n",
    "    \n",
    "    imagecube = np.array(imagedata)\n",
    "    master_image = np.median(imagecube, axis=0)\n",
    "    return master_image"
   ]
  },
  {
   "cell_type": "code",
   "execution_count": null,
   "metadata": {},
   "outputs": [],
   "source": [
    "path = './bias/'\n",
    "bias = filelist(path)\n",
    "master_bias = master_image(bias)\n",
    "master_bias = ccdproc.CCDData(master_bias, unit=u.adu)\n",
    "\n",
    "# path2 = './darks/'\n",
    "# darks = filelist(path2)\n",
    "# master_dark = master_image(darks)\n",
    "# master_dark = ccdproc.CCDData(master_dark, unit=u.adu)\n",
    "\n",
    "path3 = './flats/'\n",
    "flats = filelist(path3)\n",
    "master_flat = master_image(flats)\n",
    "master_flat = ccdproc.CCDData(master_flat, unit=u.adu)"
   ]
  }
 ],
 "metadata": {
  "kernelspec": {
   "display_name": "Python 3",
   "language": "python",
   "name": "python3"
  },
  "language_info": {
   "codemirror_mode": {
    "name": "ipython",
    "version": 3
   },
   "file_extension": ".py",
   "mimetype": "text/x-python",
   "name": "python",
   "nbconvert_exporter": "python",
   "pygments_lexer": "ipython3",
   "version": "3.6.6"
  }
 },
 "nbformat": 4,
 "nbformat_minor": 2
}
