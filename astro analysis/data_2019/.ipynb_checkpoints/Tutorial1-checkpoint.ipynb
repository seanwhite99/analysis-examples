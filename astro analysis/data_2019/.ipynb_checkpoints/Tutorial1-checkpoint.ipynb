{
 "cells": [
  {
   "cell_type": "code",
   "execution_count": null,
   "metadata": {},
   "outputs": [],
   "source": [
    "from photutils import CircularAperture, aperture_photometry, CircularAnnulus\n",
    "from astropy import units as u\n",
    "import numpy as np\n",
    "import astropy.io.fits as pf\n",
    "import ccdproc\n",
    "import os\n",
    "import matplotlib.pyplot as plt"
   ]
  },
  {
   "cell_type": "code",
   "execution_count": null,
   "metadata": {},
   "outputs": [],
   "source": [
    "def filelist(path):\n",
    "    filenamelist = [path + file for file in os.listdir(path) if file.endswith('.fit')]\n",
    "    if filenamelist:\n",
    "        filenamelist.sort()\n",
    "    return filenamelist\n",
    "\n",
    "def master_image(imagelist):\n",
    "    imagedata = []\n",
    "    for image in imagelist:\n",
    "        img = pf.getdata(image, 0)\n",
    "        imagedata.append(img)\n",
    "    \n",
    "    imagecube = np.array(imagedata)\n",
    "    master_image = np.median(imagecube, axis=0)\n",
    "    return master_image"
   ]
  },
  {
   "cell_type": "code",
   "execution_count": null,
   "metadata": {},
   "outputs": [],
   "source": [
    "path = './bias/'\n",
    "bias = filelist(path)\n",
    "master_bias = master_image(bias)\n",
    "master_bias = ccdproc.CCDData(master_bias, unit=u.adu)\n",
    "\n",
    "# path2 = './darks/'\n",
    "# darks = filelist(path2)\n",
    "# master_dark = master_image(darks)\n",
    "# master_dark = ccdproc.CCDData(master_dark, unit=u.adu)\n",
    "\n",
    "path3 = './flats/'\n",
    "flats = filelist(path3)\n",
    "master_flat = master_image(flats)\n",
    "master_flat = ccdproc.CCDData(master_flat, unit=u.adu)"
   ]
  },
  {
   "cell_type": "code",
   "execution_count": null,
   "metadata": {},
   "outputs": [],
   "source": [
    "path4 = './object/'\n",
    "img_files = filelist(path4)"
   ]
  },
  {
   "cell_type": "code",
   "execution_count": null,
   "metadata": {},
   "outputs": [],
   "source": [
    "total_flux = []\n",
    "for index in range(len(img_files)):\n",
    "    img0 = pf.open('./august19/data/'+img_files[index])\n",
    "    img = pf.getdata('./august19/data/'+img_files[index], 0)\n",
    "    data = ccdproc.CCDData(img, unit=u.adu)\n",
    "    bias_subtracted = ccdproc.subtract_bias(data, master_bias)\n",
    "    reduced_image = ccdproc.flat_correct(bias_subtracted, master_flat)\n",
    "#     hdu = pf.PrimaryHDU(reduced_image, header = img0[0].header)\n",
    "#     hdu.writeto('./august20/data/red_'+img_files[index])\n",
    "    xS = data_source[index, 0]\n",
    "    yS = data_source[index, 1]\n",
    "    x1 = data_source[index, 2]\n",
    "    y1 = data_source[index, 3]\n",
    "    x2 = data_source[index, 4]\n",
    "    y2 = data_source[index, 5]\n",
    "    x3 = data_source[index, 6]\n",
    "    y3 = data_source[index, 7]\n",
    "#     x4 = data_source[index, 8]\n",
    "#     y4 = data_source[index, 9]\n",
    "# #     print(xS, yS, x1, y1, x2, y2, x3, y3)\n",
    "    positions = [(xS, yS), (x1, y1), (x2, y2), (x3, y3)]\n",
    "    apertures = CircularAperture(positions, r=5.)\n",
    "    annulus_apertures = CircularAnnulus(positions, r_in=6., r_out=8.)\n",
    "    apers = [apertures, annulus_apertures]\n",
    "    phot_table = aperture_photometry(data, apers)\n",
    "    bkg_mean = phot_table['aperture_sum_1'] / annulus_apertures.area()\n",
    "    bkg_sum = bkg_mean * apertures.area()\n",
    "    final_sum = phot_table['aperture_sum_0'] - bkg_sum\n",
    "    total_flux.append(final_sum.value)\n",
    "#master_dark.header['exposure'] = 120.0\n",
    "#dark_subtracted = ccdproc.subtract_dark(bias_subtracted, master_dark, exposure_time='exposure', exposure_unit=u.second, scale=True)"
   ]
  }
 ],
 "metadata": {
  "kernelspec": {
   "display_name": "Python 3",
   "language": "python",
   "name": "python3"
  },
  "language_info": {
   "codemirror_mode": {
    "name": "ipython",
    "version": 3
   },
   "file_extension": ".py",
   "mimetype": "text/x-python",
   "name": "python",
   "nbconvert_exporter": "python",
   "pygments_lexer": "ipython3",
   "version": "3.6.6"
  }
 },
 "nbformat": 4,
 "nbformat_minor": 2
}
